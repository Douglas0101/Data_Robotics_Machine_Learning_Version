{
 "cells": [
  {
   "metadata": {
    "ExecuteTime": {
     "end_time": "2025-01-26T21:14:07.675432Z",
     "start_time": "2025-01-26T21:14:06.866029Z"
    }
   },
   "cell_type": "code",
   "source": [
    "from sklearn.naive_bayes import MultinomialNB\n",
    "from sklearn.feature_extraction.text import CountVectorizer\n",
    "\n",
    "# Dados de treino: texto e labels (0 = não spam, 1 = spam)\n",
    "textos = [\"oferta exclusiva\", \"reunião amanhã\", \"ganhe dinheiro rápido\"]\n",
    "labels = [1, 0, 1]\n",
    "\n",
    "# Vetorização de texto\n",
    "vectorizer = CountVectorizer()\n",
    "X_train = vectorizer.fit_transform(textos)\n",
    "\n",
    "# Treinamento do modelo\n",
    "model = MultinomialNB()\n",
    "model.fit(X_train, labels)\n",
    "\n",
    "# Predição\n",
    "novo_texto = vectorizer.transform([\"promoção imperdível\"])\n",
    "print(model.predict(novo_texto)) # Saída: [1] (spam)"
   ],
   "id": "785848cb4ccfebc2",
   "outputs": [
    {
     "name": "stdout",
     "output_type": "stream",
     "text": [
      "[1]\n"
     ]
    }
   ],
   "execution_count": 1
  }
 ],
 "metadata": {
  "kernelspec": {
   "display_name": "Python 3",
   "language": "python",
   "name": "python3"
  },
  "language_info": {
   "codemirror_mode": {
    "name": "ipython",
    "version": 2
   },
   "file_extension": ".py",
   "mimetype": "text/x-python",
   "name": "python",
   "nbconvert_exporter": "python",
   "pygments_lexer": "ipython2",
   "version": "2.7.6"
  }
 },
 "nbformat": 4,
 "nbformat_minor": 5
}

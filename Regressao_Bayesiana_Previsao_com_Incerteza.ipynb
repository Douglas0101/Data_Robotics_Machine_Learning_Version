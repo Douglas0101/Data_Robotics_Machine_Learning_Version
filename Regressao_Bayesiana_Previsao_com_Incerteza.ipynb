{
 "cells": [
  {
   "cell_type": "code",
   "id": "initial_id",
   "metadata": {
    "collapsed": true,
    "jupyter": {
     "is_executing": true
    }
   },
   "source": [
    "import pymc3 as pm\n",
    "import numpy as np\n",
    "\n",
    "# Dados sintéticos\n",
    "X = np.array([1, 2, 3, 4, 5])\n",
    "y = np.array([2, 4, 5, 4, 5])\n",
    "\n",
    "with pm.Model() as modelo_bayes:\n",
    "    # Priori para coeficientes\n",
    "    beta0 = pm.Normal('beta0', mu=0, sd=10)\n",
    "    beta1 = pm.Normal('beta1', mu=0, sd=10)\n",
    "    sigma = pm.HalfNormal('sigma', sd=1)\n",
    "\n",
    "    # Verossimilhança\n",
    "    mu = beta0 + beta1 * X\n",
    "    y_obs = pm.Normal('y_obs', mu=mu, sd=sigma, observed=y)\n",
    "\n",
    "    # Inferência via MCMC\n",
    "    trace = pm.sample(1000, tune=1000)\n",
    "\n",
    "# Visualização da distribuição de beta1\n",
    "pm.plot_posterior(trace, var_names=['beta1'])"
   ],
   "outputs": [],
   "execution_count": null
  }
 ],
 "metadata": {
  "kernelspec": {
   "display_name": "Python 3",
   "language": "python",
   "name": "python3"
  },
  "language_info": {
   "codemirror_mode": {
    "name": "ipython",
    "version": 2
   },
   "file_extension": ".py",
   "mimetype": "text/x-python",
   "name": "python",
   "nbconvert_exporter": "python",
   "pygments_lexer": "ipython2",
   "version": "2.7.6"
  }
 },
 "nbformat": 4,
 "nbformat_minor": 5
}
